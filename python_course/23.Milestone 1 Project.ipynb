{
 "cells": [
  {
   "cell_type": "code",
   "execution_count": null,
   "metadata": {},
   "outputs": [],
   "source": [
    "list = [1,2,3,4,5,6,7,8,9]\n",
    "\n",
    "def judge():\n",
    "    global list\n",
    "    tup = ((0,1,2),\n",
    "           (3,4,6),\n",
    "           (6,7,8),\n",
    "           (0,3,6),\n",
    "           (1,4,7),\n",
    "           (2,5,8),\n",
    "           (0,4,8),\n",
    "           (2,4,6))\n",
    "    for t in tup:\n",
    "        if list[t[0]] == list[t[1]] == list[t[2]] == 'O':\n",
    "            print 'Player 1 Win!'\n",
    "            finished = True\n",
    "        elif list[t[0]] == list[t[1]] == list[t[2]] == 'X':\n",
    "            print 'Player 2 Win!'\n",
    "            finished = True\n",
    "        else:\n",
    "            finished = False\n",
    "    return finished\n",
    "\n",
    "def place(step):\n",
    "    global list\n",
    "    if step % 2 == 0:\n",
    "        board_position = input(\"Please enter a number for the board position choice [Player 2]: \")\n",
    "        list[board_position - 1] = 'X'\n",
    "    else:\n",
    "        board_position = input(\"Please enter a number for the board position choice [Player 1]: \")\n",
    "        list[board_position - 1] = 'O'\n",
    "\n",
    "i = 0\n",
    "while i < 9:\n",
    "    i += 1\n",
    "    place(i)\n",
    "    print list[0], list[1], list[2]\n",
    "    print list[3], list[4], list[5]\n",
    "    print list[6], list[7], list[8]\n",
    "    if judge() == True:\n",
    "        break"
   ]
  },
  {
   "cell_type": "code",
   "execution_count": 10,
   "metadata": {},
   "outputs": [
    {
     "name": "stdout",
     "output_type": "stream",
     "text": [
      "0 1 2\n",
      "3 4 6\n",
      "6 7 8\n",
      "0 3 6\n",
      "1 4 7\n",
      "2 5 8\n",
      "0 4 8\n",
      "2 4 6\n"
     ]
    }
   ],
   "source": [
    "judge()"
   ]
  },
  {
   "cell_type": "code",
   "execution_count": null,
   "metadata": {
    "collapsed": true
   },
   "outputs": [],
   "source": []
  }
 ],
 "metadata": {
  "kernelspec": {
   "display_name": "Python 2",
   "language": "python",
   "name": "python2"
  }
 },
 "nbformat": 4,
 "nbformat_minor": 2
}
