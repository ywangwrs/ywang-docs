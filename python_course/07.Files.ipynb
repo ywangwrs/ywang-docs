{
 "cells": [
  {
   "cell_type": "code",
   "execution_count": 1,
   "metadata": {},
   "outputs": [
    {
     "data": {
      "text/plain": [
       "u'/opt/notebooks'"
      ]
     },
     "execution_count": 1,
     "metadata": {},
     "output_type": "execute_result"
    }
   ],
   "source": [
    "pwd"
   ]
  },
  {
   "cell_type": "code",
   "execution_count": 2,
   "metadata": {
    "collapsed": true
   },
   "outputs": [],
   "source": [
    "f = open('test.txt')"
   ]
  },
  {
   "cell_type": "code",
   "execution_count": 3,
   "metadata": {},
   "outputs": [
    {
     "data": {
      "text/plain": [
       "'total 80\\ndrwxrwxr-x 3 ywang ywang  4096 Jan 14 13:50 .\\ndrwxr-xr-x 3 ywang ywang  4096 Jan 12 15:04 ..\\n-rw-r--r-- 1 root  root   4871 Jan 12 17:12 01.Numbers.ipynb\\n-rw-r--r-- 1 root  root  12091 Jan 12 17:49 02.Strings.ipynb\\n-rw-r--r-- 1 root  root   5997 Jan 12 18:02 03.Print Formatting.ipynb\\n-rw-r--r-- 1 root  root  12566 Jan 13 17:48 04.Lists.ipynb\\n-rw-r--r-- 1 root  root   9690 Jan 13 19:15 05.Dictionaries.ipynb\\n-rw-r--r-- 1 root  root   6127 Jan 14 13:44 06.Tuples.ipynb\\n-rw-r--r-- 1 root  root    888 Jan 14 13:48 07.Files.ipynb\\ndrwxr-xr-x 2 root  root   4096 Jan 14 13:46 .ipynb_checkpoints\\n-rw-rw-r-- 1 ywang ywang     0 Jan 14 13:50 test.txt\\n'"
      ]
     },
     "execution_count": 3,
     "metadata": {},
     "output_type": "execute_result"
    }
   ],
   "source": [
    "f.read()"
   ]
  },
  {
   "cell_type": "code",
   "execution_count": 4,
   "metadata": {},
   "outputs": [
    {
     "data": {
      "text/plain": [
       "''"
      ]
     },
     "execution_count": 4,
     "metadata": {},
     "output_type": "execute_result"
    }
   ],
   "source": [
    "f.read()"
   ]
  },
  {
   "cell_type": "code",
   "execution_count": 5,
   "metadata": {
    "collapsed": true
   },
   "outputs": [],
   "source": [
    "f.seek(0)"
   ]
  },
  {
   "cell_type": "code",
   "execution_count": 6,
   "metadata": {},
   "outputs": [
    {
     "data": {
      "text/plain": [
       "'total 80\\ndrwxrwxr-x 3 ywang ywang  4096 Jan 14 13:50 .\\ndrwxr-xr-x 3 ywang ywang  4096 Jan 12 15:04 ..\\n-rw-r--r-- 1 root  root   4871 Jan 12 17:12 01.Numbers.ipynb\\n-rw-r--r-- 1 root  root  12091 Jan 12 17:49 02.Strings.ipynb\\n-rw-r--r-- 1 root  root   5997 Jan 12 18:02 03.Print Formatting.ipynb\\n-rw-r--r-- 1 root  root  12566 Jan 13 17:48 04.Lists.ipynb\\n-rw-r--r-- 1 root  root   9690 Jan 13 19:15 05.Dictionaries.ipynb\\n-rw-r--r-- 1 root  root   6127 Jan 14 13:44 06.Tuples.ipynb\\n-rw-r--r-- 1 root  root    888 Jan 14 13:48 07.Files.ipynb\\ndrwxr-xr-x 2 root  root   4096 Jan 14 13:46 .ipynb_checkpoints\\n-rw-rw-r-- 1 ywang ywang     0 Jan 14 13:50 test.txt\\n'"
      ]
     },
     "execution_count": 6,
     "metadata": {},
     "output_type": "execute_result"
    }
   ],
   "source": [
    "f.read()"
   ]
  },
  {
   "cell_type": "code",
   "execution_count": 7,
   "metadata": {
    "collapsed": true
   },
   "outputs": [],
   "source": [
    "f.seek(0)"
   ]
  },
  {
   "cell_type": "code",
   "execution_count": 8,
   "metadata": {},
   "outputs": [
    {
     "data": {
      "text/plain": [
       "['total 80\\n',\n",
       " 'drwxrwxr-x 3 ywang ywang  4096 Jan 14 13:50 .\\n',\n",
       " 'drwxr-xr-x 3 ywang ywang  4096 Jan 12 15:04 ..\\n',\n",
       " '-rw-r--r-- 1 root  root   4871 Jan 12 17:12 01.Numbers.ipynb\\n',\n",
       " '-rw-r--r-- 1 root  root  12091 Jan 12 17:49 02.Strings.ipynb\\n',\n",
       " '-rw-r--r-- 1 root  root   5997 Jan 12 18:02 03.Print Formatting.ipynb\\n',\n",
       " '-rw-r--r-- 1 root  root  12566 Jan 13 17:48 04.Lists.ipynb\\n',\n",
       " '-rw-r--r-- 1 root  root   9690 Jan 13 19:15 05.Dictionaries.ipynb\\n',\n",
       " '-rw-r--r-- 1 root  root   6127 Jan 14 13:44 06.Tuples.ipynb\\n',\n",
       " '-rw-r--r-- 1 root  root    888 Jan 14 13:48 07.Files.ipynb\\n',\n",
       " 'drwxr-xr-x 2 root  root   4096 Jan 14 13:46 .ipynb_checkpoints\\n',\n",
       " '-rw-rw-r-- 1 ywang ywang     0 Jan 14 13:50 test.txt\\n']"
      ]
     },
     "execution_count": 8,
     "metadata": {},
     "output_type": "execute_result"
    }
   ],
   "source": [
    "f.readlines()"
   ]
  },
  {
   "cell_type": "code",
   "execution_count": 9,
   "metadata": {},
   "outputs": [
    {
     "name": "stdout",
     "output_type": "stream",
     "text": [
      "Writing new.txt\n"
     ]
    }
   ],
   "source": [
    "%%writefile new.txt\n",
    "First line\n",
    "Second line"
   ]
  },
  {
   "cell_type": "code",
   "execution_count": 10,
   "metadata": {},
   "outputs": [
    {
     "name": "stdout",
     "output_type": "stream",
     "text": [
      "First line\n",
      "\n",
      "Second line\n"
     ]
    }
   ],
   "source": [
    "for line in open('new.txt'):\n",
    "    print line"
   ]
  },
  {
   "cell_type": "markdown",
   "metadata": {},
   "source": [
    "readlines() is not good for a large file."
   ]
  },
  {
   "cell_type": "code",
   "execution_count": null,
   "metadata": {
    "collapsed": true
   },
   "outputs": [],
   "source": []
  }
 ],
 "metadata": {
  "kernelspec": {
   "display_name": "Python 2",
   "language": "python",
   "name": "python2"
  },
  "language_info": {
   "codemirror_mode": {
    "name": "ipython",
    "version": 2
   },
   "file_extension": ".py",
   "mimetype": "text/x-python",
   "name": "python",
   "nbconvert_exporter": "python",
   "pygments_lexer": "ipython2",
   "version": "2.7.14"
  }
 },
 "nbformat": 4,
 "nbformat_minor": 2
}
