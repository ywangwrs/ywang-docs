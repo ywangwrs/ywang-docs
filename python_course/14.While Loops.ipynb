{
 "cells": [
  {
   "cell_type": "markdown",
   "metadata": {},
   "source": [
    "# While Loops"
   ]
  },
  {
   "cell_type": "code",
   "execution_count": 1,
   "metadata": {},
   "outputs": [
    {
     "name": "stdout",
     "output_type": "stream",
     "text": [
      "x is currently:  0\n",
      "x is currently:  1\n",
      "x is currently:  2\n",
      "x is currently:  3\n",
      "x is currently:  4\n",
      "x is currently:  5\n",
      "x is currently:  6\n",
      "x is currently:  7\n",
      "x is currently:  8\n",
      "x is currently:  9\n"
     ]
    }
   ],
   "source": [
    "x = 0\n",
    "\n",
    "while x < 10:\n",
    "    print 'x is currently: ', x\n",
    "    x += 1"
   ]
  },
  {
   "cell_type": "code",
   "execution_count": 3,
   "metadata": {},
   "outputs": [
    {
     "name": "stdout",
     "output_type": "stream",
     "text": [
      "x is currently:  0\n",
      "x is currently:  2\n",
      "x is currently:  4\n",
      "x is currently:  6\n",
      "x is currently:  8\n",
      "All done!\n"
     ]
    }
   ],
   "source": [
    "x = 0\n",
    "\n",
    "while x < 10:\n",
    "    print 'x is currently: ', x\n",
    "    x += 2\n",
    "else:\n",
    "    print 'All done!'"
   ]
  },
  {
   "cell_type": "code",
   "execution_count": 4,
   "metadata": {
    "collapsed": true
   },
   "outputs": [],
   "source": [
    "# break continue pass"
   ]
  },
  {
   "cell_type": "markdown",
   "metadata": {},
   "source": [
    "pass: does nothing at all!"
   ]
  },
  {
   "cell_type": "code",
   "execution_count": 7,
   "metadata": {},
   "outputs": [
    {
     "name": "stdout",
     "output_type": "stream",
     "text": [
      "x is currently:  0\n",
      "x is still less than 10, adding 2 to x\n",
      "Continuing ...\n",
      "x is currently:  2\n",
      "x is still less than 10, adding 2 to x\n",
      ">>> Hey x == 4 now.\n",
      "x is currently:  4\n",
      "x is still less than 10, adding 2 to x\n",
      "Continuing ...\n",
      "x is currently:  6\n",
      "x is still less than 10, adding 2 to x\n",
      "Continuing ...\n",
      "x is currently:  8\n",
      "x is still less than 10, adding 2 to x\n",
      "Continuing ...\n"
     ]
    }
   ],
   "source": [
    "x = 0\n",
    "\n",
    "while x < 10:\n",
    "    print 'x is currently: ', x\n",
    "    print 'x is still less than 10, adding 2 to x'\n",
    "    x += 2\n",
    "\n",
    "    if x == 4:\n",
    "        print '>>> Hey x == 4 now.'\n",
    "    else:\n",
    "        print 'Continuing ...'\n",
    "        continue"
   ]
  },
  {
   "cell_type": "code",
   "execution_count": 11,
   "metadata": {},
   "outputs": [
    {
     "name": "stdout",
     "output_type": "stream",
     "text": [
      "x is currently:  0\n",
      "x is still less than 10, adding 1 to x\n",
      "Continuing ...\n",
      "x is currently:  1\n",
      "x is still less than 10, adding 1 to x\n",
      "Continuing ...\n",
      "x is currently:  2\n",
      "x is still less than 10, adding 1 to x\n",
      "Continuing ...\n",
      "x is currently:  3\n",
      "x is still less than 10, adding 1 to x\n",
      ">>> Hey x == 4 now.\n"
     ]
    }
   ],
   "source": [
    "x = 0\n",
    "while x < 10:\n",
    "    print 'x is currently: ', x\n",
    "    print 'x is still less than 10, adding 1 to x'\n",
    "    x += 1\n",
    "\n",
    "    if x == 4:\n",
    "        print '>>> Hey x == 4 now.'\n",
    "        break\n",
    "    else:\n",
    "        print 'Continuing ...'\n",
    "        continue"
   ]
  },
  {
   "cell_type": "markdown",
   "metadata": {},
   "source": [
    "Don't run the code below."
   ]
  },
  {
   "cell_type": "code",
   "execution_count": null,
   "metadata": {
    "collapsed": true
   },
   "outputs": [],
   "source": [
    "while True:\n",
    "    print 'infinite'"
   ]
  }
 ],
 "metadata": {
  "kernelspec": {
   "display_name": "Python 2",
   "language": "python",
   "name": "python2"
  },
  "language_info": {
   "codemirror_mode": {
    "name": "ipython",
    "version": 2
   },
   "file_extension": ".py",
   "mimetype": "text/x-python",
   "name": "python",
   "nbconvert_exporter": "python",
   "pygments_lexer": "ipython2",
   "version": "2.7.14"
  }
 },
 "nbformat": 4,
 "nbformat_minor": 2
}
